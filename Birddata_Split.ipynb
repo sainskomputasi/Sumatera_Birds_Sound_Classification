{
  "nbformat": 4,
  "nbformat_minor": 0,
  "metadata": {
    "colab": {
      "name": "Copy of Birddata_Split_melspec.ipynb",
      "provenance": []
    },
    "kernelspec": {
      "name": "python3",
      "display_name": "Python 3"
    },
    "language_info": {
      "name": "python"
    }
  },
  "cells": [
    {
      "cell_type": "code",
      "metadata": {
        "id": "wjGYRl9frHGA"
      },
      "source": [
        "import os\n",
        "from random import sample"
      ],
      "execution_count": null,
      "outputs": []
    },
    {
      "cell_type": "code",
      "metadata": {
        "colab": {
          "base_uri": "https://localhost:8080/"
        },
        "id": "Uk8Wt6WmrZBA",
        "outputId": "b62e0650-a3ea-49a0-f642-bfe6826c1307"
      },
      "source": [
        "# define number of files for all sets\n",
        "train = 0.80 # 80% of all sound should be in the train set\n",
        "val = 0.10 # 10% validation set\n",
        "test = 0.10 # 10% validation set\n",
        "basePath=\"/content/drive/MyDrive/Data_bird_mp3/\"\n",
        "imPath = \"/content/drive/MyDrive/Data_birds_melss/\"\n",
        "                                \n",
        "destPath = \"/content/drive/MyDrive/Birddata_split/New_8_1/\" \n",
        "\n",
        "birds=[]\n",
        "singleBirdList=[]\n",
        "allFilesList=[]\n",
        "for root, dirs, files in os.walk(basePath):\n",
        "    if root == basePath:\n",
        "        birds=dirs\n",
        "print(birds)\n",
        "\n",
        "trainSet=[]\n",
        "valSet=[]\n",
        "testSet=[]\n",
        "\n",
        "birdsShort=[] # list of short file names\n",
        "birdNumber=0\n",
        "for nr,bird in enumerate(birds):\n",
        "    for root, dirs, files in os.walk(basePath+bird):\n",
        "        for file in files:\n",
        "            if file.endswith(\".mp3\"):\n",
        "                singleBirdList.append(os.path.join(root, file))\n",
        "    if len(singleBirdList) > 50:\n",
        "        birdsShort.append(str(birdNumber)+bird[:5])\n",
        "        birdNumber = birdNumber+1;\n",
        "        print(\"Found \", len(singleBirdList), ' wav files for ', bird)\n",
        "        trainSet.append(int(train*len(singleBirdList)))\n",
        "        valSet.append(int(val*len(singleBirdList)))\n",
        "        roundDiff = len(singleBirdList)-(int(train*len(singleBirdList))+int(test*len(singleBirdList))+int(val*len(singleBirdList))) \n",
        "        testSet.append(int(test*len(singleBirdList)) + roundDiff)\n",
        "        print(\"Size of train: \", int(train*len(singleBirdList)),\", val: \",int(val*len(singleBirdList)),\", test: \",int(test*len(singleBirdList)))\n",
        "        allFilesList.append(singleBirdList)\n",
        "    singleBirdList=[]\n",
        "\n",
        "\n",
        "print(trainSet)\n",
        "print(valSet)\n",
        "print(testSet)"
      ],
      "execution_count": null,
      "outputs": [
        {
          "output_type": "stream",
          "name": "stdout",
          "text": [
            "['Caprimulgusmacrurus', 'Pnoepygapusilla', 'Malacocinclasepiaria', 'Malacopteronaffine', 'Anthipessolitaris', 'Anthracocerosalbirostris', 'Corvusenca', 'Dryocopusjavensis', 'Elanuscaeruleus', 'Orthotomussericeus', 'Pachycephalacinerea', 'Dicrurusparadiseus', 'Phylloscopusborealis', 'Eudynamysscolopaceus', 'Macronusgularis']\n",
            "Found  116  wav files for  Caprimulgusmacrurus\n",
            "Size of train:  92 , val:  11 , test:  11\n",
            "Found  169  wav files for  Pnoepygapusilla\n",
            "Size of train:  135 , val:  16 , test:  16\n",
            "Found  72  wav files for  Malacocinclasepiaria\n",
            "Size of train:  57 , val:  7 , test:  7\n",
            "Found  76  wav files for  Malacopteronaffine\n",
            "Size of train:  60 , val:  7 , test:  7\n",
            "Found  53  wav files for  Anthipessolitaris\n",
            "Size of train:  42 , val:  5 , test:  5\n",
            "Found  80  wav files for  Anthracocerosalbirostris\n",
            "Size of train:  64 , val:  8 , test:  8\n",
            "Found  113  wav files for  Corvusenca\n",
            "Size of train:  90 , val:  11 , test:  11\n",
            "Found  96  wav files for  Dryocopusjavensis\n",
            "Size of train:  76 , val:  9 , test:  9\n",
            "Found  247  wav files for  Elanuscaeruleus\n",
            "Size of train:  197 , val:  24 , test:  24\n",
            "Found  92  wav files for  Orthotomussericeus\n",
            "Size of train:  73 , val:  9 , test:  9\n",
            "Found  60  wav files for  Pachycephalacinerea\n",
            "Size of train:  48 , val:  6 , test:  6\n",
            "Found  188  wav files for  Dicrurusparadiseus\n",
            "Size of train:  150 , val:  18 , test:  18\n",
            "Found  201  wav files for  Phylloscopusborealis\n",
            "Size of train:  160 , val:  20 , test:  20\n",
            "Found  141  wav files for  Eudynamysscolopaceus\n",
            "Size of train:  112 , val:  14 , test:  14\n",
            "Found  143  wav files for  Macronusgularis\n",
            "Size of train:  114 , val:  14 , test:  14\n",
            "[92, 135, 57, 60, 42, 64, 90, 76, 197, 73, 48, 150, 160, 112, 114]\n",
            "[11, 16, 7, 7, 5, 8, 11, 9, 24, 9, 6, 18, 20, 14, 14]\n",
            "[13, 18, 8, 9, 6, 8, 12, 11, 26, 10, 6, 20, 21, 15, 15]\n"
          ]
        }
      ]
    },
    {
      "cell_type": "code",
      "metadata": {
        "colab": {
          "base_uri": "https://localhost:8080/"
        },
        "id": "IH_NzcDjE4Hp",
        "outputId": "77e3ac73-bf4d-48ba-a1be-ad72812c9854"
      },
      "source": [
        "# randomly choose mp3 files for each set  \n",
        "trainFiles=[]\n",
        "valFiles=[]\n",
        "testFiles=[]\n",
        "\n",
        "for index, singleBirdList in enumerate(allFilesList):\n",
        "    randFiles = sample(range(len(singleBirdList)), len(singleBirdList))\n",
        "    start = 0\n",
        "    end = trainSet[index]\n",
        "    trainFiles.append(randFiles[start:end])\n",
        "    start = end \n",
        "    end = start + valSet[index]\n",
        "    valFiles.append(randFiles[start:end])\n",
        "    start = end \n",
        "    end = start + testSet[index] \n",
        "    testFiles.append(randFiles[start:end])\n",
        "    print(\"Selected random files number:\\n train: \", len(trainFiles[index]),\"/\",trainSet[index],\n",
        "          \", val: \",len(valFiles[index]),\"/\",valSet[index],\n",
        "          \", test: \",len(testFiles[index]),\"/\",testSet[index])"
      ],
      "execution_count": null,
      "outputs": [
        {
          "output_type": "stream",
          "name": "stdout",
          "text": [
            "Selected random files number:\n",
            " train:  92 / 92 , val:  11 / 11 , test:  13 / 13\n",
            "Selected random files number:\n",
            " train:  135 / 135 , val:  16 / 16 , test:  18 / 18\n",
            "Selected random files number:\n",
            " train:  57 / 57 , val:  7 / 7 , test:  8 / 8\n",
            "Selected random files number:\n",
            " train:  60 / 60 , val:  7 / 7 , test:  9 / 9\n",
            "Selected random files number:\n",
            " train:  42 / 42 , val:  5 / 5 , test:  6 / 6\n",
            "Selected random files number:\n",
            " train:  64 / 64 , val:  8 / 8 , test:  8 / 8\n",
            "Selected random files number:\n",
            " train:  90 / 90 , val:  11 / 11 , test:  12 / 12\n",
            "Selected random files number:\n",
            " train:  76 / 76 , val:  9 / 9 , test:  11 / 11\n",
            "Selected random files number:\n",
            " train:  197 / 197 , val:  24 / 24 , test:  26 / 26\n",
            "Selected random files number:\n",
            " train:  73 / 73 , val:  9 / 9 , test:  10 / 10\n",
            "Selected random files number:\n",
            " train:  48 / 48 , val:  6 / 6 , test:  6 / 6\n",
            "Selected random files number:\n",
            " train:  150 / 150 , val:  18 / 18 , test:  20 / 20\n",
            "Selected random files number:\n",
            " train:  160 / 160 , val:  20 / 20 , test:  21 / 21\n",
            "Selected random files number:\n",
            " train:  112 / 112 , val:  14 / 14 , test:  15 / 15\n",
            "Selected random files number:\n",
            " train:  114 / 114 , val:  14 / 14 , test:  15 / 15\n"
          ]
        }
      ]
    },
    {
      "cell_type": "code",
      "metadata": {
        "id": "EY74ze9VdTHc"
      },
      "source": [
        "def extractName(string):\n",
        "    return string.rsplit('/',1)[1].replace(' ', '')[:-4]"
      ],
      "execution_count": null,
      "outputs": []
    },
    {
      "cell_type": "code",
      "metadata": {
        "id": "0StDQ2Efd8Ar"
      },
      "source": [
        "# sort all the lists to make copying files easier\n",
        "sets=[trainFiles,valFiles,testFiles]\n",
        "for fileSet in sets:\n",
        "    for index,files in enumerate(fileSet):\n",
        "        fileSet[index].sort()"
      ],
      "execution_count": null,
      "outputs": []
    },
    {
      "cell_type": "code",
      "metadata": {
        "colab": {
          "base_uri": "https://localhost:8080/"
        },
        "id": "CWB4UWspeBF6",
        "outputId": "19b8f5c3-5f86-4572-e686-cda0ea36b20a"
      },
      "source": [
        "# change full names to short\n",
        "\n",
        "for root, dirs, files in os.walk(basePath):\n",
        "    if root == basePath:\n",
        "        birds=dirs\n",
        "\n",
        "setNames = [\"train/\",\"val/\",\"test/\"]\n",
        "\n",
        "print(\"Long: \", birds,\"\\nShort: \",birdsShort)"
      ],
      "execution_count": null,
      "outputs": [
        {
          "output_type": "stream",
          "name": "stdout",
          "text": [
            "Long:  ['Caprimulgusmacrurus', 'Pnoepygapusilla', 'Malacocinclasepiaria', 'Malacopteronaffine', 'Anthipessolitaris', 'Anthracocerosalbirostris', 'Corvusenca', 'Dryocopusjavensis', 'Elanuscaeruleus', 'Orthotomussericeus', 'Pachycephalacinerea', 'Dicrurusparadiseus', 'Phylloscopusborealis', 'Eudynamysscolopaceus', 'Macronusgularis'] \n",
            "Short:  ['0Capri', '1Pnoep', '2Malac', '3Malac', '4Anthi', '5Anthr', '6Corvu', '7Dryoc', '8Elanu', '9Ortho', '10Pachy', '11Dicru', '12Phyll', '13Eudyn', '14Macro']\n"
          ]
        }
      ]
    },
    {
      "cell_type": "code",
      "metadata": {
        "colab": {
          "base_uri": "https://localhost:8080/"
        },
        "id": "BQlw1NyeeXB9",
        "outputId": "f9de28e9-2885-4925-c95f-bf4c13ddf7ec"
      },
      "source": [
        "import shutil\n",
        "\n",
        "counter=0\n",
        "for birdNumber, bird in enumerate(birdsShort): # for each class (bird) check where the file should be copied\n",
        "    print(counter)\n",
        "    counter=0\n",
        "    for setName, fileSet in zip(setNames, sets): # check for all datasets: train, val and test sests \n",
        "        for setNumber in fileSet[birdNumber]:\n",
        "            \n",
        "            for fileNumber, file in enumerate(allFilesList[birdNumber]):\n",
        "                if setNumber == fileNumber: # if file number to copy is same as number of file, then copy it\n",
        "                    \n",
        "                    for root, dirs, files in os.walk(imPath):\n",
        "                        for file2 in files:\n",
        "                            if extractName(file) in file2:\n",
        "                                counter=counter+1\n",
        "                                source=root+\"/\"+file2\n",
        "                                \n",
        "                                destination = destPath+setName+bird+\"/\"\n",
        "                                if not os.path.exists(destination):\n",
        "                                    os.makedirs(destination)\n",
        "                                shutil.copy2(source, destination)"
      ],
      "execution_count": null,
      "outputs": [
        {
          "output_type": "stream",
          "name": "stdout",
          "text": [
            "0\n",
            "1055\n",
            "1504\n",
            "606\n",
            "732\n",
            "549\n",
            "572\n",
            "765\n",
            "718\n",
            "1989\n",
            "636\n",
            "511\n",
            "1925\n",
            "2452\n",
            "1031\n"
          ]
        }
      ]
    }
  ]
}